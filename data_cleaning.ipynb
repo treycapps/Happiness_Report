{
 "cells": [
  {
   "cell_type": "code",
   "execution_count": 1,
   "metadata": {},
   "outputs": [],
   "source": [
    "#import neccessary packages\n",
    "import pandas as pd\n",
    "import numpy as np"
   ]
  },
  {
   "cell_type": "code",
   "execution_count": 2,
   "metadata": {},
   "outputs": [],
   "source": [
    "#Import the Data\n",
    "df15 = pd.read_csv('2015.csv')\n",
    "df16 = pd.read_csv('2016.csv')\n",
    "df17 = pd.read_csv('2017.csv')\n",
    "df18 = pd.read_csv('2018.csv')\n",
    "df19 = pd.read_csv('2019.csv')"
   ]
  },
  {
   "cell_type": "code",
   "execution_count": 3,
   "metadata": {},
   "outputs": [],
   "source": [
    "#Make dataframes columns similar for merging\n",
    "df15['Year'] = 2015\n",
    "df16['Year'] = 2016\n",
    "\n",
    "df17.rename(columns = {'Happiness.Rank': 'Happiness Rank',\n",
    "                       'Happiness.Score': 'Happiness Score',\n",
    "                       'Economy..GDP.per.Capita.': 'Economy (GDP per Capita)',\n",
    "                       'Health..Life.Expectancy.': 'Health (Life Expectancy)',\n",
    "                       'Trust..Government.Corruption.': 'Trust (Government Corruption)',\n",
    "                       'Dystopia.Residual': 'Dystopia Residual'},\n",
    "           inplace = True)\n",
    "\n",
    "df17['Year'] = 2017\n",
    "\n",
    "df18.rename(columns = {'Country or region': 'Country',\n",
    "                       'Score': 'Happiness Score',\n",
    "                       'GDP per capita': 'Economy (GDP per Capita)',\n",
    "                       'Social support': 'Family',\n",
    "                       'Healthy life expectancy': 'Health (Life Expectancy)',\n",
    "                       'Freedom to make life choices': 'Freedom',\n",
    "                       'Perceptions of corruption': 'Trust (Government Corruption)'},\n",
    "           inplace = True)\n",
    "\n",
    "df18['Year'] = 2018\n",
    "\n",
    "df19.rename(columns = {'Country or region': 'Country',\n",
    "                       'Score': 'Happiness Score',\n",
    "                       'GDP per capita': 'Economy (GDP per Capita)',\n",
    "                       'Social support': 'Family',\n",
    "                       'Healthy life expectancy': 'Health (Life Expectancy)',\n",
    "                       'Freedom to make life choices': 'Freedom',\n",
    "                       'Perceptions of corruption': 'Trust (Government Corruption)'},\n",
    "           inplace = True)\n",
    "df19['Year'] = 2019"
   ]
  },
  {
   "cell_type": "code",
   "execution_count": 4,
   "metadata": {},
   "outputs": [],
   "source": [
    "#Create function to add region to 2017-2019 dataframes\n",
    "region = df15.set_index('Country').to_dict()['Region']\n",
    "def find_region(df):    \n",
    "    try:\n",
    "        df['Region'] = region[df['Country']]\n",
    "    except KeyError:\n",
    "        df['Region'] = np.nan\n",
    "    return df"
   ]
  },
  {
   "cell_type": "code",
   "execution_count": 5,
   "metadata": {},
   "outputs": [],
   "source": [
    "#Create the Happiness Rank column\n",
    "df18['Happiness Rank'] = df18['Happiness Score'].rank(ascending = False).astype('int32')\n",
    "df19['Happiness Rank'] = df19['Happiness Score'].rank(ascending = False).astype('int32')\n",
    "#Create Dystopia Residual column\n",
    "df18['Dystopia Residual'] = df18['Happiness Score'] - (df18['Economy (GDP per Capita)'] + df18['Family'] + df18['Health (Life Expectancy)'] + df18['Freedom'] + df18['Trust (Government Corruption)'] + df18['Generosity'])\n",
    "df19['Dystopia Residual'] = df19['Happiness Score'] - (df19['Economy (GDP per Capita)'] + df19['Family'] + df19['Health (Life Expectancy)'] + df19['Freedom'] + df19['Trust (Government Corruption)'] + df19['Generosity'])"
   ]
  },
  {
   "cell_type": "code",
   "execution_count": 6,
   "metadata": {
    "scrolled": true
   },
   "outputs": [],
   "source": [
    "#Apply functions to neccessary dataframes\n",
    "\n",
    "df17 = df17.apply(find_region, axis = 1)\n",
    "df18 = df18.apply(find_region, axis = 1)\n",
    "df19 = df19.apply(find_region, axis = 1)"
   ]
  },
  {
   "cell_type": "code",
   "execution_count": 7,
   "metadata": {},
   "outputs": [
    {
     "name": "stdout",
     "output_type": "stream",
     "text": [
      "Country                          0\n",
      "Happiness Rank                   0\n",
      "Happiness Score                  0\n",
      "Whisker.high                     0\n",
      "Whisker.low                      0\n",
      "Economy (GDP per Capita)         0\n",
      "Family                           0\n",
      "Health (Life Expectancy)         0\n",
      "Freedom                          0\n",
      "Generosity                       0\n",
      "Trust (Government Corruption)    0\n",
      "Dystopia Residual                0\n",
      "Year                             0\n",
      "Region                           6\n",
      "dtype: int64\n"
     ]
    }
   ],
   "source": [
    "#Find out how many Regions are not in df15\n",
    "print(df17.isna().sum())\n",
    "#Not many missing, so we can manually fill these regions after the merge"
   ]
  },
  {
   "cell_type": "code",
   "execution_count": 8,
   "metadata": {},
   "outputs": [],
   "source": [
    "#Create one dataset\n",
    "frames = [df15, df16, df17, df18, df19]\n",
    "df_all = pd.concat(frames)\n",
    "#Sort Values for easy viewing  \n",
    "df_all.sort_values('Country', inplace = True)\n",
    "#Reset the index\n",
    "df_all.reset_index(inplace = True)\n",
    "#Drop unneeded columns\n",
    "df_all.drop(['index', 'Standard Error', 'Lower Confidence Interval', 'Upper Confidence Interval', 'Whisker.high', 'Whisker.low', 'Overall rank'], axis = 1, inplace = True)"
   ]
  },
  {
   "cell_type": "code",
   "execution_count": 9,
   "metadata": {},
   "outputs": [
    {
     "name": "stdout",
     "output_type": "stream",
     "text": [
      "Country                           0\n",
      "Region                           19\n",
      "Happiness Rank                    0\n",
      "Happiness Score                   0\n",
      "Economy (GDP per Capita)          0\n",
      "Family                            0\n",
      "Health (Life Expectancy)          0\n",
      "Freedom                           0\n",
      "Trust (Government Corruption)     1\n",
      "Generosity                        0\n",
      "Dystopia Residual                 1\n",
      "Year                              0\n",
      "dtype: int64\n"
     ]
    }
   ],
   "source": [
    "#Number of missing values after combination\n",
    "print(df_all.isna().sum())"
   ]
  },
  {
   "cell_type": "code",
   "execution_count": 10,
   "metadata": {},
   "outputs": [
    {
     "name": "stdout",
     "output_type": "stream",
     "text": [
      "{'Belize': None}\n",
      "{'Belize': None}\n",
      "{'Gambia': None}\n",
      "{'Hong Kong S.A.R., China': None}\n",
      "{'Namibia': None}\n",
      "{'Namibia': None}\n",
      "{'Namibia': None}\n",
      "{'North Macedonia': None}\n",
      "{'Northern Cyprus': None}\n",
      "{'Northern Cyprus': None}\n",
      "{'Somalia': None}\n",
      "{'Somalia': None}\n",
      "{'Somalia': None}\n",
      "{'South Sudan': None}\n",
      "{'South Sudan': None}\n",
      "{'South Sudan': None}\n",
      "{'Taiwan Province of China': None}\n",
      "{'Trinidad & Tobago': None}\n",
      "{'Trinidad & Tobago': None}\n"
     ]
    }
   ],
   "source": [
    "# Find out which countries are missing regions to manually enter\n",
    "result = df_all[df_all['Region'].isnull()].index.tolist()\n",
    "for val in result:\n",
    "    countries = df_all.iloc[val]['Country']\n",
    "    countries = countries.splitlines()\n",
    "    addition = {key: None for key in countries}\n",
    "    print(addition)"
   ]
  },
  {
   "cell_type": "code",
   "execution_count": 11,
   "metadata": {},
   "outputs": [
    {
     "name": "stdout",
     "output_type": "stream",
     "text": [
      "['Southern Asia' 'Central and Eastern Europe'\n",
      " 'Middle East and Northern Africa' 'Sub-Saharan Africa'\n",
      " 'Latin America and Caribbean' 'Australia and New Zealand'\n",
      " 'Western Europe' nan 'Southeastern Asia' 'North America' 'Eastern Asia']\n"
     ]
    }
   ],
   "source": [
    "#Get possible Regions\n",
    "print(df_all['Region'].unique())"
   ]
  },
  {
   "cell_type": "code",
   "execution_count": 12,
   "metadata": {},
   "outputs": [],
   "source": [
    "#Add Region to the listed countries\n",
    "addition['Belize'] = 'Latin America and Caribbean'\n",
    "addition['Gambia'] = 'Sub-Saharan Africa'\n",
    "addition['Hong Kong S.A.R., China'] = 'Eastern Asia'\n",
    "addition['Namibia'] = 'Sub-Saharan Africa'\n",
    "addition['North Macedonia'] = 'Central and Eastern Europe'\n",
    "addition['Northern Cyprus'] = 'Middle East and Northern Africa'\n",
    "addition['Somalia'] = 'Sub-Saharan Africa'\n",
    "addition['South Sudan'] = 'Sub-Saharan Africa'\n",
    "addition['Taiwan Province of China'] = 'Eastern Asia'\n",
    "addition['Trinidad & Tobago'] = 'Latin America and Caribbean'\n",
    "addition['Puerto Rico'] = 'Latin America and Caribbean'\n",
    "addition['Somaliland Region'] = 'Sub-Saharan Africa'"
   ]
  },
  {
   "cell_type": "code",
   "execution_count": 13,
   "metadata": {},
   "outputs": [],
   "source": [
    "#Add additional regions to the region dictionary and re-run the find_region function\n",
    "region = {**region, **addition}\n",
    "df_all = df_all.apply(find_region, axis = 1)"
   ]
  },
  {
   "cell_type": "code",
   "execution_count": 14,
   "metadata": {},
   "outputs": [
    {
     "name": "stdout",
     "output_type": "stream",
     "text": [
      "[732]\n",
      "Country                                     United Arab Emirates\n",
      "Region                           Middle East and Northern Africa\n",
      "Happiness Rank                                                20\n",
      "Happiness Score                                            6.774\n",
      "Economy (GDP per Capita)                                   2.096\n",
      "Family                                                     0.776\n",
      "Health (Life Expectancy)                                    0.67\n",
      "Freedom                                                    0.284\n",
      "Trust (Government Corruption)                                NaN\n",
      "Generosity                                                 0.186\n",
      "Dystopia Residual                                            NaN\n",
      "Year                                                        2018\n",
      "Name: 732, dtype: object\n"
     ]
    }
   ],
   "source": [
    "#Look at the one NaN value\n",
    "print(df_all[df_all['Trust (Government Corruption)'].isnull()].index.tolist())\n",
    "print(df_all.iloc[732])"
   ]
  },
  {
   "cell_type": "code",
   "execution_count": 17,
   "metadata": {},
   "outputs": [
    {
     "data": {
      "image/png": "[encoded data removed]",
      "text/plain": [
       "<Figure size 432x288 with 1 Axes>"
      ]
     },
     "metadata": {
      "needs_background": "light"
     },
     "output_type": "display_data"
    },
    {
     "name": "stdout",
     "output_type": "stream",
     "text": [
      "count    155.000000\n",
      "mean       0.112000\n",
      "std        0.096492\n",
      "min        0.000000\n",
      "25%        0.051000\n",
      "50%        0.082000\n",
      "75%        0.137000\n",
      "max        0.457000\n",
      "Name: Trust (Government Corruption), dtype: float64\n"
     ]
    }
   ],
   "source": [
    "#Find the method of replacement\n",
    "import matplotlib.pyplot as plt\n",
    "plt.scatter(x=df18['Happiness Rank'], y = df18['Trust (Government Corruption)'])\n",
    "plt.axvline(x=20)\n",
    "plt.show()\n",
    "print(df18['Trust (Government Corruption)'].describe())"
   ]
  },
  {
   "cell_type": "code",
   "execution_count": 16,
   "metadata": {},
   "outputs": [],
   "source": [
    "#Considering rank 20, the mean from the 2018 data seems to be the best replacement value\n",
    "df_all['Trust (Government Corruption)'].fillna(value = df18['Trust (Government Corruption)'].mean(), inplace = True)\n",
    "#Update the Dystopia Residual\n",
    "df_all['Dystopia Residual'] = df_all['Happiness Score'] - (df_all['Economy (GDP per Capita)'] + df_all['Family'] + df_all['Health (Life Expectancy)'] + df_all['Freedom'] + df_all['Trust (Government Corruption)'] + df_all['Generosity'])"
   ]
  },
  {
   "cell_type": "code",
   "execution_count": 141,
   "metadata": {},
   "outputs": [],
   "source": [
    "#Shuffle and Export the clean data\n",
    "from sklearn.utils import shuffle\n",
    "df_all = shuffle(df_all)\n",
    "df_all.to_csv('data_clean.csv', index = False)"
   ]
  }
 ],
 "metadata": {
  "kernelspec": {
   "display_name": "Python 3",
   "language": "python",
   "name": "python3"
  },
  "language_info": {
   "codemirror_mode": {
    "name": "ipython",
    "version": 3
   },
   "file_extension": ".py",
   "mimetype": "text/x-python",
   "name": "python",
   "nbconvert_exporter": "python",
   "pygments_lexer": "ipython3",
   "version": "3.7.6"
  }
 },
 "nbformat": 4,
 "nbformat_minor": 4
}
